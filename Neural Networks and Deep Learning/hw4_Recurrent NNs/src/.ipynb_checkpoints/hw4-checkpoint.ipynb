{
 "cells": [
  {
   "cell_type": "markdown",
   "metadata": {},
   "source": [
    "## ECBM E6040 Homework 4 - Programming Problem"
   ]
  },
  {
   "cell_type": "code",
   "execution_count": null,
   "metadata": {
    "collapsed": false
   },
   "outputs": [],
   "source": [
    "import matplotlib\n",
    "import pylab\n",
    "%matplotlib inline"
   ]
  },
  {
   "cell_type": "markdown",
   "metadata": {},
   "source": [
    "### Problem a: Recurrent Neural Network\n",
    "#### Bullet 1: Experiment with RNNSLU"
   ]
  },
  {
   "cell_type": "code",
   "execution_count": null,
   "metadata": {
    "collapsed": false
   },
   "outputs": [],
   "source": [
    "# TODO\n",
    "from hw4a import test_rnnslu\n",
    "L = [{\n",
    "        'fold': 3,\n",
    "        'lr': 0.0970806646812754,\n",
    "        'verbose': True,\n",
    "        'decay': True,\n",
    "        'win': 5,\n",
    "        'nhidden': 100,\n",
    "        'seed': 345,\n",
    "        'emb_dimension': 30,\n",
    "        'nepochs': 60,\n",
    "        'savemodel': False,\n",
    "        'normal': True,\n",
    "        'folder':'../result'},\n",
    "     {\n",
    "        'fold': 3,\n",
    "        'lr': 0.0970806646812754,\n",
    "        'verbose': True,\n",
    "        'decay': True,\n",
    "        'win': 5,\n",
    "        'nhidden': 200,\n",
    "        'seed': 345,\n",
    "        'emb_dimension': 30,\n",
    "        'nepochs': 60,\n",
    "        'savemodel': False,\n",
    "        'normal': True,\n",
    "        'folder':'../result'},\n",
    "    {\n",
    "        'fold': 3,\n",
    "        'lr': 0.0970806646812754,\n",
    "        'verbose': True,\n",
    "        'decay': True,\n",
    "        'win': 7,\n",
    "        'nhidden': 100,\n",
    "        'seed': 345,\n",
    "        'emb_dimension': 30,\n",
    "        'nepochs': 60,\n",
    "        'savemodel': False,\n",
    "        'normal': True,\n",
    "        'folder':'../result'},\n",
    "     {\n",
    "        'fold': 3,\n",
    "        'lr': 0.0970806646812754,\n",
    "        'verbose': True,\n",
    "        'decay': True,\n",
    "        'win': 7,\n",
    "        'nhidden': 200,\n",
    "        'seed': 345,\n",
    "        'emb_dimension': 30,\n",
    "        'nepochs': 60,\n",
    "        'savemodel': False,\n",
    "        'normal': True,\n",
    "        'folder':'../result'},\n",
    "     {\n",
    "        'fold': 3,\n",
    "        'lr': 0.0970806646812754,\n",
    "        'verbose': True,\n",
    "        'decay': True,\n",
    "        'win': 5,\n",
    "        'nhidden': 100,\n",
    "        'seed': 345,\n",
    "        'emb_dimension': 60,\n",
    "        'nepochs': 60,\n",
    "        'savemodel': False,\n",
    "        'normal': True,\n",
    "        'folder':'../result'},\n",
    "     {\n",
    "        'fold': 3,\n",
    "        'lr': 0.0970806646812754,\n",
    "        'verbose': True,\n",
    "        'decay': True,\n",
    "        'win': 5,\n",
    "        'nhidden': 200,\n",
    "        'seed': 345,\n",
    "        'emb_dimension': 60,\n",
    "        'nepochs': 60,\n",
    "        'savemodel': False,\n",
    "        'normal': True,\n",
    "        'folder':'../result'},\n",
    "     {\n",
    "        'fold': 3,\n",
    "        'lr': 0.0970806646812754,\n",
    "        'verbose': True,\n",
    "        'decay': True,\n",
    "        'win': 7,\n",
    "        'nhidden': 100,\n",
    "        'seed': 345,\n",
    "        'emb_dimension': 60,\n",
    "        'nepochs': 60,\n",
    "        'savemodel': False,\n",
    "        'normal': True,\n",
    "        'folder':'../result'},\n",
    "     {\n",
    "        'fold': 3,\n",
    "        'lr': 0.0970806646812754,\n",
    "        'verbose': True,\n",
    "        'decay': True,\n",
    "        'win': 7,\n",
    "        'nhidden': 200,\n",
    "        'seed': 345,\n",
    "        'emb_dimension': 60,\n",
    "        'nepochs': 60,\n",
    "        'savemodel': False,\n",
    "        'normal': True,\n",
    "        'folder':'../result'}]\n",
    "for kwargs in L:\n",
    "    test_rnnslu(kwargs)"
   ]
  },
  {
   "cell_type": "raw",
   "metadata": {},
   "source": [
    "**Choice of parameters and coresponding results:**\n",
    "\n",
    "(1)number of hidden units=100,  the size of context window=5,  the dimension of the word embeddings=30\n",
    "\n",
    "BEST RESULT: epoch 47 valid F1 97.05 best test F1 93.8 with the model ../result\n",
    "\n",
    "(2)number of hidden units=200,  the size of context window=5,  the dimension of the word embeddings=30\n",
    "\n",
    "BEST RESULT: epoch 52 valid F1 96.79 best test F1 93.31 with the model ../result\n",
    "\n",
    "(3)number of hidden units=100,  the size of context window=7,  the dimension of the word embeddings=30\n",
    "\n",
    "BEST RESULT: epoch 47 valid F1 97.06 best test F1 93.85 with the model ../result\n",
    "\n",
    "(4)number of hidden units=200,  the size of context window=7,  the dimension of the word embeddings=30\n",
    "\n",
    "BEST RESULT: epoch 56 valid F1 97.31 best test F1 93.87 with the model ../result\n",
    "\n",
    "(5)number of hidden units=100,  the size of context window=5,  the dimension of the word embeddings=60\n",
    "\n",
    "BEST RESULT: epoch 54 valid F1 96.86 best test F1 93.33 with the model ../result\n",
    "\n",
    "(6)number of hidden units=200,  the size of context window=5,  the dimension of the word embeddings=60\n",
    "\n",
    "BEST RESULT: epoch 57 valid F1 96.98 best test F1 94.0 with the model ../result\n",
    "\n",
    "(7)number of hidden units=100,  the size of context window=7,  the dimension of the word embeddings=60\n",
    "\n",
    "BEST RESULT: epoch 37 valid F1 97.01 best test F1 93.98 with the model ../result\n",
    "\n",
    "(8)number of hidden units=200,  the size of context window=7,  the dimension of the word embeddings=60\n",
    "\n",
    "BEST RESULT: epoch 49 valid F1 97.26 best test F1 93.99 with the model ../result\n"
   ]
  },
  {
   "cell_type": "markdown",
   "metadata": {},
   "source": [
    "**Discuss the testing accuracy:**\n",
    "\n",
    "First of all, the testing accuracy is high and all testing accuracy is very close.\n",
    "\n",
    "second of all, in terms of my choice of parameters, generally speaking, with the size of context window and the dimension of the word embeddings fixed, RNN with more hidden units perform little bit better. similarly, with the number of hidden units and the dimension of the word embeddings fixed, RNN with larger size of context window perform little bit better; with the number of hidden units and the size of context window fixed, RNN with larger dimension of the word embeddings perform little bit better."
   ]
  },
  {
   "cell_type": "markdown",
   "metadata": {},
   "source": [
    "#### Bullet 2: Experiment with RNNSLU without normalizing word embeddings"
   ]
  },
  {
   "cell_type": "code",
   "execution_count": null,
   "metadata": {
    "collapsed": false,
    "scrolled": false
   },
   "outputs": [],
   "source": [
    "# TODO\n",
    "from hw4a import test_rnnslu\n",
    "L = [{\n",
    "        'fold': 3,\n",
    "        'lr': 0.0970806646812754,\n",
    "        'verbose': True,\n",
    "        'decay': True,\n",
    "        'win': 5,\n",
    "        'nhidden': 100,\n",
    "        'seed': 345,\n",
    "        'emb_dimension': 30,\n",
    "        'nepochs': 60,\n",
    "        'savemodel': False,\n",
    "        'normal': False,\n",
    "        'folder':'../result'},\n",
    "     {\n",
    "        'fold': 3,\n",
    "        'lr': 0.0970806646812754,\n",
    "        'verbose': True,\n",
    "        'decay': True,\n",
    "        'win': 5,\n",
    "        'nhidden': 200,\n",
    "        'seed': 345,\n",
    "        'emb_dimension': 30,\n",
    "        'nepochs': 60,\n",
    "        'savemodel': False,\n",
    "        'normal': False,\n",
    "        'folder':'../result'},\n",
    "    {\n",
    "        'fold': 3,\n",
    "        'lr': 0.0970806646812754,\n",
    "        'verbose': True,\n",
    "        'decay': True,\n",
    "        'win': 7,\n",
    "        'nhidden': 100,\n",
    "        'seed': 345,\n",
    "        'emb_dimension': 30,\n",
    "        'nepochs': 60,\n",
    "        'savemodel': False,\n",
    "        'normal': False,\n",
    "        'folder':'../result'},\n",
    "     {\n",
    "        'fold': 3,\n",
    "        'lr': 0.0970806646812754,\n",
    "        'verbose': True,\n",
    "        'decay': True,\n",
    "        'win': 7,\n",
    "        'nhidden': 200,\n",
    "        'seed': 345,\n",
    "        'emb_dimension': 30,\n",
    "        'nepochs': 60,\n",
    "        'savemodel': False,\n",
    "        'normal': False,\n",
    "        'folder':'../result'},\n",
    "     {\n",
    "        'fold': 3,\n",
    "        'lr': 0.0970806646812754,\n",
    "        'verbose': True,\n",
    "        'decay': True,\n",
    "        'win': 5,\n",
    "        'nhidden': 100,\n",
    "        'seed': 345,\n",
    "        'emb_dimension': 60,\n",
    "        'nepochs': 60,\n",
    "        'savemodel': False,\n",
    "        'normal': False,\n",
    "        'folder':'../result'},\n",
    "     {\n",
    "        'fold': 3,\n",
    "        'lr': 0.0970806646812754,\n",
    "        'verbose': True,\n",
    "        'decay': True,\n",
    "        'win': 5,\n",
    "        'nhidden': 200,\n",
    "        'seed': 345,\n",
    "        'emb_dimension': 60,\n",
    "        'nepochs': 60,\n",
    "        'savemodel': False,\n",
    "        'normal': False,\n",
    "        'folder':'../result'},\n",
    "     {\n",
    "        'fold': 3,\n",
    "        'lr': 0.0970806646812754,\n",
    "        'verbose': True,\n",
    "        'decay': True,\n",
    "        'win': 7,\n",
    "        'nhidden': 100,\n",
    "        'seed': 345,\n",
    "        'emb_dimension': 60,\n",
    "        'nepochs': 60,\n",
    "        'savemodel': False,\n",
    "        'normal': False,\n",
    "        'folder':'../esult'},\n",
    "     {\n",
    "        'fold': 3,\n",
    "        'lr': 0.0970806646812754,\n",
    "        'verbose': True,\n",
    "        'decay': True,\n",
    "        'win': 7,\n",
    "        'nhidden': 200,\n",
    "        'seed': 345,\n",
    "        'emb_dimension': 60,\n",
    "        'nepochs': 60,\n",
    "        'savemodel': False,\n",
    "        'normal': False,\n",
    "        'folder':'../result'}]\n",
    "for kwargs in L:\n",
    "    test_rnnslu(kwargs)"
   ]
  },
  {
   "cell_type": "raw",
   "metadata": {},
   "source": [
    "**Choice of parameters and coresponding results:**\n",
    "\n",
    "(1)number of hidden units=100,  the size of context window=5,  the dimension of the word embeddings=30\n",
    "\n",
    "BEST RESULT: epoch 58 valid F1 97.3 best test F1 94.16 with the model ../result\n",
    "\n",
    "(2)number of hidden units=200,  the size of context window=5,  the dimension of the word embeddings=30\n",
    "\n",
    "BEST RESULT: epoch 31 valid F1 96.87 best test F1 93.78 with the model ../result\n",
    "\n",
    "(3)number of hidden units=100,  the size of context window=7,  the dimension of the word embeddings=30\n",
    "\n",
    "BEST RESULT: epoch 51 valid F1 97.22 best test F1 94.03 with the model ../result\n",
    "\n",
    "(4)number of hidden units=200,  the size of context window=7,  the dimension of the word embeddings=30\n",
    "\n",
    "BEST RESULT: epoch 26 valid F1 97.05 best test F1 94.3 with the model ../result\n",
    "\n",
    "(5)number of hidden units=100,  the size of context window=5,  the dimension of the word embeddings=60\n",
    "\n",
    "BEST RESULT: epoch 46 valid F1 97.17 best test F1 93.55 with the model ../result\n",
    "\n",
    "(6)number of hidden units=200,  the size of context window=5,  the dimension of the word embeddings=60\n",
    "\n",
    "BEST RESULT: epoch 52 valid F1 97.43 best test F1 94.3 with the model ../result\n",
    "\n",
    "(7)number of hidden units=100,  the size of context window=7,  the dimension of the word embeddings=60\n",
    "\n",
    "BEST RESULT: epoch 59 valid F1 97.36 best test F1 93.92 with the model ../result\n",
    "\n",
    "(8)number of hidden units=200,  the size of context window=7,  the dimension of the word embeddings=60\n",
    "\n",
    "BEST RESULT: epoch 56 valid F1 97.35 best test F1 94.28 with the model ../result"
   ]
  },
  {
   "cell_type": "markdown",
   "metadata": {},
   "source": [
    "**Discuss the testing accuracy:**\n",
    "\n",
    "First of all, the testing accuracy is high and all testing accuracy is very close.\n",
    "\n",
    "Second of all, compared with the RNNs with the same parameters in (i), RNNs in (ii) have better test performance. That might be because normalizing word embeddings limits the learning ability of the RNN.\n",
    "\n",
    "Third of all, in terms of my choice of parameters, generally speaking, with the size of context window and the dimension of the word embeddings fixed, RNN with more hidden units perform little bit better. similarly, with the number of hidden units and the dimension of the word embeddings fixed, RNN with larger size of context window perform little bit better; with the number of hidden units and the size of context window fixed, RNN with larger dimension of the word embeddings perform little bit better."
   ]
  },
  {
   "cell_type": "markdown",
   "metadata": {},
   "source": [
    "#### Bullet 3: Implement RNN with two hidden layers"
   ]
  },
  {
   "cell_type": "code",
   "execution_count": null,
   "metadata": {
    "collapsed": false
   },
   "outputs": [],
   "source": [
    "# TODO\n",
    "from hw4a import test_rnnslu2\n",
    "L = [{\n",
    "        'fold': 3,\n",
    "        'lr': 0.0970806646812754,\n",
    "        'verbose': True,\n",
    "        'decay': True,\n",
    "        'win': 5,\n",
    "        'nhidden1': 50,\n",
    "        'nhidden2': 50,\n",
    "        'seed': 345,\n",
    "        'emb_dimension': 30,\n",
    "        'nepochs': 60,\n",
    "        'savemodel': False,\n",
    "        'normal': True,\n",
    "        'folder':'../result'},\n",
    "     {\n",
    "        'fold': 3,\n",
    "        'lr': 0.0970806646812754,\n",
    "        'verbose': True,\n",
    "        'decay': True,\n",
    "        'win': 5,\n",
    "        'nhidden1': 100,\n",
    "        'nhidden2': 50,\n",
    "        'seed': 345,\n",
    "        'emb_dimension': 30,\n",
    "        'nepochs': 60,\n",
    "        'savemodel': False,\n",
    "        'normal': True,\n",
    "        'folder':'../result'},\n",
    "    {\n",
    "        'fold': 3,\n",
    "        'lr': 0.0970806646812754,\n",
    "        'verbose': True,\n",
    "        'decay': True,\n",
    "        'win': 7,\n",
    "        'nhidden1': 50,\n",
    "        'nhidden2': 50,\n",
    "        'seed': 345,\n",
    "        'emb_dimension': 30,\n",
    "        'nepochs': 60,\n",
    "        'savemodel': False,\n",
    "        'normal': True,\n",
    "        'folder':'../result'},\n",
    "     {\n",
    "        'fold': 3,\n",
    "        'lr': 0.0970806646812754,\n",
    "        'verbose': True,\n",
    "        'decay': True,\n",
    "        'win': 7,\n",
    "        'nhidden1': 100,\n",
    "        'nhidden2': 50,\n",
    "        'seed': 345,\n",
    "        'emb_dimension': 30,\n",
    "        'nepochs': 60,\n",
    "        'savemodel': False,\n",
    "        'normal': True,\n",
    "        'folder':'../result'},\n",
    "     {\n",
    "        'fold': 3,\n",
    "        'lr': 0.0970806646812754,\n",
    "        'verbose': True,\n",
    "        'decay': True,\n",
    "        'win': 5,\n",
    "        'nhidden1': 50,\n",
    "        'nhidden2': 50,\n",
    "        'seed': 345,\n",
    "        'emb_dimension': 60,\n",
    "        'nepochs': 60,\n",
    "        'savemodel': False,\n",
    "        'normal': True,\n",
    "        'folder':'../result'},\n",
    "     {\n",
    "        'fold': 3,\n",
    "        'lr': 0.0970806646812754,\n",
    "        'verbose': True,\n",
    "        'decay': True,\n",
    "        'win': 5,\n",
    "        'nhidden1': 100,\n",
    "        'nhidden2': 50,\n",
    "        'seed': 345,\n",
    "        'emb_dimension': 60,\n",
    "        'nepochs': 60,\n",
    "        'savemodel': False,\n",
    "        'normal': True,\n",
    "        'folder':'../result'},\n",
    "     {\n",
    "        'fold': 3,\n",
    "        'lr': 0.0970806646812754,\n",
    "        'verbose': True,\n",
    "        'decay': True,\n",
    "        'win': 7,\n",
    "        'nhidden1': 50,\n",
    "        'nhidden2': 50,\n",
    "        'seed': 345,\n",
    "        'emb_dimension': 60,\n",
    "        'nepochs': 60,\n",
    "        'savemodel': False,\n",
    "        'normal': True,\n",
    "        'folder':'../result'},\n",
    "     {\n",
    "        'fold': 3,\n",
    "        'lr': 0.0970806646812754,\n",
    "        'verbose': True,\n",
    "        'decay': True,\n",
    "        'win': 7,\n",
    "        'nhidden1': 100,\n",
    "        'nhidden2': 50,\n",
    "        'seed': 345,\n",
    "        'emb_dimension': 60,\n",
    "        'nepochs': 60,\n",
    "        'savemodel': False,\n",
    "        'normal': True,\n",
    "        'folder':'../result'},\n",
    "     {\n",
    "        'fold': 3,\n",
    "        'lr': 0.0970806646812754,\n",
    "        'verbose': True,\n",
    "        'decay': True,\n",
    "        'win': 5,\n",
    "        'nhidden1': 50,\n",
    "        'nhidden2': 100,\n",
    "        'seed': 345,\n",
    "        'emb_dimension': 30,\n",
    "        'nepochs': 60,\n",
    "        'savemodel': False,\n",
    "        'normal': True,\n",
    "        'folder':'../result'},\n",
    "     {\n",
    "        'fold': 3,\n",
    "        'lr': 0.0970806646812754,\n",
    "        'verbose': True,\n",
    "        'decay': True,\n",
    "        'win': 5,\n",
    "        'nhidden1': 100,\n",
    "        'nhidden2': 100,\n",
    "        'seed': 345,\n",
    "        'emb_dimension': 30,\n",
    "        'nepochs': 60,\n",
    "        'savemodel': False,\n",
    "        'normal': True,\n",
    "        'folder':'../result'},\n",
    "    {\n",
    "        'fold': 3,\n",
    "        'lr': 0.0970806646812754,\n",
    "        'verbose': True,\n",
    "        'decay': True,\n",
    "        'win': 7,\n",
    "        'nhidden1': 50,\n",
    "        'nhidden2': 100,\n",
    "        'seed': 345,\n",
    "        'emb_dimension': 30,\n",
    "        'nepochs': 60,\n",
    "        'savemodel': False,\n",
    "        'normal': True,\n",
    "        'folder':'../result'},\n",
    "     {\n",
    "        'fold': 3,\n",
    "        'lr': 0.0970806646812754,\n",
    "        'verbose': True,\n",
    "        'decay': True,\n",
    "        'win': 7,\n",
    "        'nhidden1': 100,\n",
    "        'nhidden2': 100,\n",
    "        'seed': 345,\n",
    "        'emb_dimension': 30,\n",
    "        'nepochs': 60,\n",
    "        'savemodel': False,\n",
    "        'normal': True,\n",
    "        'folder':'../result'},\n",
    "     {\n",
    "        'fold': 3,\n",
    "        'lr': 0.0970806646812754,\n",
    "        'verbose': True,\n",
    "        'decay': True,\n",
    "        'win': 5,\n",
    "        'nhidden1': 50,\n",
    "        'nhidden2': 100,\n",
    "        'seed': 345,\n",
    "        'emb_dimension': 60,\n",
    "        'nepochs': 60,\n",
    "        'savemodel': False,\n",
    "        'normal': True,\n",
    "        'folder':'../result'},\n",
    "     {\n",
    "        'fold': 3,\n",
    "        'lr': 0.0970806646812754,\n",
    "        'verbose': True,\n",
    "        'decay': True,\n",
    "        'win': 5,\n",
    "        'nhidden1': 100,\n",
    "        'nhidden2': 100,\n",
    "        'seed': 345,\n",
    "        'emb_dimension': 60,\n",
    "        'nepochs': 60,\n",
    "        'savemodel': False,\n",
    "        'normal': True,\n",
    "        'folder':'../result'},\n",
    "     {\n",
    "        'fold': 3,\n",
    "        'lr': 0.0970806646812754,\n",
    "        'verbose': True,\n",
    "        'decay': True,\n",
    "        'win': 7,\n",
    "        'nhidden1': 50,\n",
    "        'nhidden2': 100,\n",
    "        'seed': 345,\n",
    "        'emb_dimension': 60,\n",
    "        'nepochs': 60,\n",
    "        'savemodel': False,\n",
    "        'normal': True,\n",
    "        'folder':'../result'},\n",
    "     {\n",
    "        'fold': 3,\n",
    "        'lr': 0.0970806646812754,\n",
    "        'verbose': True,\n",
    "        'decay': True,\n",
    "        'win': 7,\n",
    "        'nhidden1': 100,\n",
    "        'nhidden2': 100,\n",
    "        'seed': 345,\n",
    "        'emb_dimension': 60,\n",
    "        'nepochs': 60,\n",
    "        'savemodel': False,\n",
    "        'normal': True,\n",
    "        'folder':'../result'}]\n",
    "for kwargs in L:\n",
    "    test_rnnslu2(kwargs)"
   ]
  },
  {
   "cell_type": "raw",
   "metadata": {},
   "source": [
    "**Choice of parameters and coresponding results:**\n",
    "\n",
    "(1)number of first hidden units=50,  number of second hidden units=50, the size of context window=5,  the dimension of the word embeddings=30\n",
    "\n",
    "BEST RESULT: epoch 57 valid F1 95.4 best test F1 91.65 with the model ../result\n",
    "\n",
    "(2)number of first hidden units=100,  number of second hidden units=50, the size of context window=5,  the dimension of the word embeddings=30\n",
    "\n",
    "BEST RESULT: epoch 47 valid F1 95.6 best test F1 92.6 with the model ../result\n",
    "\n",
    "(3)number of first hidden units=50,  number of second hidden units=50, the size of context window=7,  the dimension of the word embeddings=30\n",
    "\n",
    "BEST RESULT: epoch 57 valid F1 95.52 best test F1 91.96 with the model ../result\n",
    "\n",
    "(4)number of first hidden units=100,  number of second hidden units=50, the size of context window=7,  the dimension of the word embeddings=30\n",
    "\n",
    "BEST RESULT: epoch 59 valid F1 95.3 best test F1 91.63 with the model ../result\n",
    "\n",
    "(5)number of first hidden units=50,  number of second hidden units=50, the size of context window=5,  the dimension of the word embeddings=60\n",
    "\n",
    "BEST RESULT: epoch 47 valid F1 95.66 best test F1 91.84 with the model ../result\n",
    "\n",
    "(6)number of first hidden units=100,  number of second hidden units=50, the size of context window=5,  the dimension of the word embeddings=60\n",
    "\n",
    "BEST RESULT: epoch 57 valid F1 96.47 best test F1 92.39 with the model ../result\n",
    "\n",
    "(7)number of first hidden units=100,  number of second hidden units=50, the size of context window=7,  the dimension of the word embeddings=60\n",
    "BEST RESULT: epoch 49 valid F1 95.37 best test F1 91.81 with the model ../esult\n",
    "\n",
    "(8)number of first hidden units=100,  number of second hidden units=50, the size of context window=7,  the dimension of the word embeddings=60\n",
    "\n",
    "BEST RESULT: epoch 51 valid F1 95.91 best test F1 92.26 with the model ../result\n",
    "\n",
    "(9)number of first hidden units=50,  number of second hidden units=100, the size of context window=5,  the dimension of the word embeddings=30\n",
    "\n",
    "BEST RESULT: epoch 56 valid F1 96.02 best test F1 92.7 with the model ../result\n",
    "\n",
    "(10)number of first hidden units=100,  number of second hidden units=100, the size of context window=5,  the dimension of the word embeddings=30\n",
    "\n",
    "BEST RESULT: epoch 49 valid F1 95.97 best test F1 92.35 with the model ../result\n",
    "\n",
    "(11)number of first hidden units=50,  number of second hidden units=100, the size of context window=7,  the dimension of the word embeddings=30\n",
    "\n",
    "BEST RESULT: epoch 56 valid F1 95.95 best test F1 92.12 with the model ../result\n",
    "\n",
    "(12)number of first hidden units=100,  number of second hidden units=100, the size of context window=7,  the dimension of the word embeddings=30\n",
    "\n",
    "BEST RESULT: epoch 59 valid F1 95.91 best test F1 92.6 with the model ../result\n",
    "\n",
    "(13)number of first hidden units=50,  number of second hidden units=100, the size of context window=5,  the dimension of the word embeddings=60\n",
    "\n",
    "BEST RESULT: epoch 58 valid F1 96.18 best test F1 92.12 with the model ../result\n",
    "\n",
    "(14)number of first hidden units=100,  number of second hidden units=100, the size of context window=5,  the dimension of the word embeddings=60\n",
    "\n",
    "BEST RESULT: epoch 56 valid F1 95.66 best test F1 92.38 with the model ../result\n",
    "\n",
    "(15)number of first hidden units=100,  number of second hidden units=100, the size of context window=7,  the dimension of the word embeddings=60\n",
    "\n",
    "BEST RESULT: epoch 47 valid F1 96.34 best test F1 91.06 with the model ../result\n",
    "\n",
    "(16)number of first hidden units=100,  number of second hidden units=100, the size of context window=7,  the dimension of the word embeddings=60\n",
    "\n",
    "BEST RESULT: epoch 54 valid F1 95.63 best test F1 92.13 with the model ../result"
   ]
  },
  {
   "cell_type": "markdown",
   "metadata": {},
   "source": [
    "**Discuss the testing accuracy:**\n",
    "\n",
    "First of all, the testing accuracy is high and all testing accuracy is very close.\n",
    "\n",
    "Second of all, compared with the RNNs with the similar parameters in (i), RNNs in (iii) have worse test performance and worse validation performance, which means RNNs in (iii) have lower learning ability. We are safe to say, adding one more hidden layer is likely to decrease the generalization ability of RNN. "
   ]
  },
  {
   "cell_type": "markdown",
   "metadata": {},
   "source": [
    "#### Bullet 4: Experiment with word embeddings"
   ]
  },
  {
   "cell_type": "code",
   "execution_count": null,
   "metadata": {
    "collapsed": false,
    "scrolled": false
   },
   "outputs": [],
   "source": [
    "# TODO\n",
    "#implement so as to save model for later use\n",
    "from hw4a import test_rnnslu\n",
    "test_rnnslu({\n",
    " 'fold': 3,\n",
    " 'lr': 0.0970806646812754,\n",
    " 'verbose': True,\n",
    " 'decay': True,\n",
    " 'win': 5,\n",
    " 'nhidden': 200,\n",
    " 'seed': 345,\n",
    " 'emb_dimension': 60,\n",
    " 'nepochs': 60,\n",
    " 'savemodel': True,\n",
    " 'normal': True,\n",
    " 'folder':'../result'})"
   ]
  },
  {
   "cell_type": "code",
   "execution_count": 328,
   "metadata": {
    "collapsed": true
   },
   "outputs": [],
   "source": [
    "from hw4_utils import load_data, contextwin\n",
    "import numpy\n",
    "embeddings = numpy.load('../result/embeddings.npy')\n",
    "train_set, valid_set, test_set, dic = load_data(3)"
   ]
  },
  {
   "cell_type": "code",
   "execution_count": 329,
   "metadata": {
    "collapsed": false
   },
   "outputs": [
    {
     "name": "stdout",
     "output_type": "stream",
     "text": [
      "['i', 'have', 'lunch', 'in', 'the', 'afternoon']\n",
      "['i', 'have', 'breakfast', 'in', 'the', 'morning']\n"
     ]
    }
   ],
   "source": [
    "idx2word = dict((k, v) for v, k in dic['words2idx'].items())\n",
    "\n",
    "sentence1 = numpy.array([232, 221,  290, 234, 481, 20], dtype=numpy.int32)\n",
    "sentence2 = numpy.array([232, 221,  80, 234, 481, 321], dtype=numpy.int32)\n",
    "\n",
    "print map(lambda x: idx2word[x], sentence1)\n",
    "print map(lambda x: idx2word[x], sentence2)"
   ]
  },
  {
   "cell_type": "code",
   "execution_count": 330,
   "metadata": {
    "collapsed": false
   },
   "outputs": [],
   "source": [
    "idx1 = numpy.array(contextwin(sentence1, 5))\n",
    "idx2 = numpy.array(contextwin(sentence2, 5))\n",
    "x1 = embeddings[idx1].reshape((6,60*5))\n",
    "x2 = embeddings[idx2].reshape((6,60*5))"
   ]
  },
  {
   "cell_type": "code",
   "execution_count": 331,
   "metadata": {
    "collapsed": false
   },
   "outputs": [
    {
     "name": "stdout",
     "output_type": "stream",
     "text": [
      "0.264897373149\n",
      "0.914000474585\n"
     ]
    }
   ],
   "source": [
    "# F('afternoon') - F('lunch') approximately equals F('morning') - F('breakfast')\n",
    "print max(abs((x1[-1,:]-x1[2,:]) - (x2[-1,:]-x2[2,:])))\n",
    "print numpy.linalg.norm((x1[-1,:]-x1[2,:]) - (x2[-1,:]-x2[2,:]), ord=2)"
   ]
  },
  {
   "cell_type": "markdown",
   "metadata": {},
   "source": [
    "I have found two word pairs: \"afternoon-lunch\" and \"breakfast-morning\"\n",
    "From the result above, we can conclude that:\n",
    "F('afternoon') - F('lunch') $\\approx$ F('morning') - F('breakfast')"
   ]
  },
  {
   "cell_type": "markdown",
   "metadata": {},
   "source": [
    "### Problem b: Learning Parity Function\n",
    "#### Bullet 1: Shallow MLP"
   ]
  },
  {
   "cell_type": "code",
   "execution_count": 217,
   "metadata": {
    "collapsed": false,
    "scrolled": false
   },
   "outputs": [
    {
     "name": "stdout",
     "output_type": "stream",
     "text": [
      "... building the model\n",
      "... training\n",
      "Optimization complete.\n",
      "Best validation score of 0.000000 % obtained at iteration 17550, with test performance 0.000000 %\n"
     ]
    },
    {
     "name": "stderr",
     "output_type": "stream",
     "text": [
      "The training process for function test_mlp_parity ran for 0.10m\n"
     ]
    }
   ],
   "source": [
    "# TODO\n",
    "from hw4b import test_mlp_parity\n",
    "test_mlp_parity(nbits=8,learning_rate=0.15, L1_reg=0.00, L2_reg=0.0001, n_epochs=1000,\n",
    "                    batch_size=20, n_hidden=35, n_hiddenLayers=1, verbose=False)"
   ]
  },
  {
   "cell_type": "raw",
   "metadata": {},
   "source": [
    "Best validation score of 100.000 % obtained at iteration 17550, with test performance 100.0000 %\n",
    "The training process for function test_mlp_parity ran for 0.10m"
   ]
  },
  {
   "cell_type": "code",
   "execution_count": 14,
   "metadata": {
    "collapsed": false
   },
   "outputs": [
    {
     "name": "stdout",
     "output_type": "stream",
     "text": [
      "... building the model\n",
      "... training\n",
      "Optimization complete.\n",
      "Best validation score of 4.600000 % obtained at iteration 49100, with test performance 4.000000 %\n"
     ]
    },
    {
     "name": "stderr",
     "output_type": "stream",
     "text": [
      "The training process for function test_mlp_parity ran for 0.14m\n"
     ]
    }
   ],
   "source": [
    "from hw4b import test_mlp_parity\n",
    "test_mlp_parity(nbits=12,learning_rate=0.2, L1_reg=0.00, L2_reg=0.0001, n_epochs=1000,\n",
    "                    batch_size=20, n_hidden=45, n_hiddenLayers=1, verbose=False)"
   ]
  },
  {
   "cell_type": "raw",
   "metadata": {},
   "source": [
    "Best validation score of 96.400000 % obtained at iteration 49100, with test performance 96.000000 %\n",
    "The training process for function test_mlp_parity ran for 0.14m"
   ]
  },
  {
   "cell_type": "markdown",
   "metadata": {},
   "source": [
    "I can not achieve 100% test accuracy in both cases! I can achieve 100% test accuracy only in the first case.\n",
    "\n",
    "the configuration is:\n",
    "\n",
    "(1) 8-bit inputs,learning_rate=0.15, L1_reg=0.00, L2_reg=0.0001, n_epochs=1000, batch_size=20, n_hidden=35, n_hiddenLayers=1\n",
    "\n",
    "(2) 12-bit inputs,learning_rate=0.2, L1_reg=0.00, L2_reg=0.0001, n_epochs=1000, batch_size=20, n_hidden=45, n_hiddenLayers=1"
   ]
  },
  {
   "cell_type": "markdown",
   "metadata": {},
   "source": [
    "#### Bullet 2: Deep MLP"
   ]
  },
  {
   "cell_type": "code",
   "execution_count": 219,
   "metadata": {
    "collapsed": false,
    "scrolled": false
   },
   "outputs": [
    {
     "name": "stdout",
     "output_type": "stream",
     "text": [
      "... building the model\n",
      "... training\n",
      "Optimization complete.\n",
      "Best validation score of 0.000000 % obtained at iteration 7550, with test performance 0.000000 %\n"
     ]
    },
    {
     "name": "stderr",
     "output_type": "stream",
     "text": [
      "The training process for function test_mlp_parity ran for 0.10m\n"
     ]
    }
   ],
   "source": [
    "from hw4b import test_mlp_parity\n",
    "test_mlp_parity(nbits=8,learning_rate=0.15, L1_reg=0.00, L2_reg=0.0001, n_epochs=1000,\n",
    "                    batch_size=20, n_hidden=50, n_hiddenLayers=4,verbose=False)"
   ]
  },
  {
   "cell_type": "raw",
   "metadata": {},
   "source": [
    "Best validation score of 100.000000 % obtained at iteration 7550, with test performance 100.000000 %\n",
    "The training process for function test_mlp_parity ran for 0.10m"
   ]
  },
  {
   "cell_type": "code",
   "execution_count": 221,
   "metadata": {
    "collapsed": false
   },
   "outputs": [
    {
     "name": "stdout",
     "output_type": "stream",
     "text": [
      "... building the model\n",
      "... training\n",
      "Optimization complete.\n",
      "Best validation score of 0.600000 % obtained at iteration 18100, with test performance 1.000000 %\n"
     ]
    },
    {
     "name": "stderr",
     "output_type": "stream",
     "text": [
      "The training process for function test_mlp_parity ran for 0.26m\n"
     ]
    }
   ],
   "source": [
    "from hw4b import test_mlp_parity\n",
    "test_mlp_parity(nbits=12,learning_rate=0.15, L1_reg=0.00, L2_reg=0.0001, n_epochs=1000,\n",
    "                    batch_size=20, n_hidden=50, n_hiddenLayers=4,verbose=False)"
   ]
  },
  {
   "cell_type": "raw",
   "metadata": {},
   "source": [
    "Best validation score of 99.400000 % obtained at iteration 18100, with test performance 99.000000 %\n",
    "The training process for function test_mlp_parity ran for 0.26m"
   ]
  },
  {
   "cell_type": "markdown",
   "metadata": {},
   "source": [
    "I am able to learn the function.\n",
    "\n",
    "the configuration is:\n",
    "\n",
    "(1) 8-bit inputs,learning_rate=0.15, L1_reg=0.00, L2_reg=0.0001, n_epochs=1000, batch_size=20, n_hidden=50, n_hiddenLayers=4\n",
    "\n",
    "(2) 12-bit inputs,learning_rate=0.15, L1_reg=0.00, L2_reg=0.0001, n_epochs=1000, batch_size=20, n_hidden=50, n_hiddenLayers=4, n_hiddenLayers=4"
   ]
  },
  {
   "cell_type": "markdown",
   "metadata": {},
   "source": [
    "#### Bullet 3: RNN"
   ]
  },
  {
   "cell_type": "code",
   "execution_count": null,
   "metadata": {
    "collapsed": false,
    "scrolled": false
   },
   "outputs": [],
   "source": [
    "# TODO\n",
    "from hw4b import test_rnn_parity\n",
    "test_rnn_parity(nbit=8,nhidden=15,lr=0.1,verbose=True,decay=False,nepochs=60)"
   ]
  },
  {
   "cell_type": "code",
   "execution_count": null,
   "metadata": {
    "collapsed": false,
    "scrolled": true
   },
   "outputs": [],
   "source": [
    "test_rnn_parity(nbit=12,nhidden=15,lr=0.1,verbose=True,decay=False,nepochs=60)"
   ]
  },
  {
   "cell_type": "raw",
   "metadata": {},
   "source": [
    "The configuration is:\n",
    "\n",
    "(1)8-bit input:\n",
    "nhidden: 15\n",
    "nbit: 8\n",
    "verbose: True\n",
    "decay: False\n",
    "nepochs: 60\n",
    "lr: 0.1\n",
    "\n",
    "BEST RESULT: epoch 21 valid accuracy 100.0 test accuracy 100.0\n",
    "\n",
    "(1)12-bit input:\n",
    "nhidden: 15\n",
    "nbit: 12\n",
    "verbose: True\n",
    "decay: False\n",
    "nepochs: 60\n",
    "lr: 0.1\n",
    "\n",
    "BEST RESULT: epoch 37 valid accuracy 100.0 test accuracy 100.0\n",
    "\n",
    "From the results, I am able to learn the parity function!"
   ]
  }
 ],
 "metadata": {
  "kernelspec": {
   "display_name": "Python 2",
   "language": "python",
   "name": "python2"
  },
  "language_info": {
   "codemirror_mode": {
    "name": "ipython",
    "version": 2
   },
   "file_extension": ".py",
   "mimetype": "text/x-python",
   "name": "python",
   "nbconvert_exporter": "python",
   "pygments_lexer": "ipython2",
   "version": "2.7.11"
  }
 },
 "nbformat": 4,
 "nbformat_minor": 0
}
